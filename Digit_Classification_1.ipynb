{
  "cells": [
    {
      "cell_type": "markdown",
      "metadata": {
        "id": "view-in-github",
        "colab_type": "text"
      },
      "source": [
        "<a href=\"https://colab.research.google.com/github/andreacohen7/education/blob/main/Digit_Classification_1.ipynb\" target=\"_parent\"><img src=\"https://colab.research.google.com/assets/colab-badge.svg\" alt=\"Open In Colab\"/></a>"
      ]
    },
    {
      "cell_type": "markdown",
      "metadata": {
        "id": "8Q4Qv7hWFNGB"
      },
      "source": [
        "# Digit Classification\n",
        "- Andrea Cohen\n",
        "- 01.30.23"
      ]
    },
    {
      "cell_type": "markdown",
      "metadata": {
        "id": "pCI3GqjAFTUt"
      },
      "source": [
        "## Task:\n",
        "  - to perform PCA to speed up a classification algorithm on a high-dimensional dataset\n",
        "  - to answer the following questions:\n",
        "    - Which model performed the best on the test set?\n",
        "    - Which model was the fastest at making predictions?"
      ]
    },
    {
      "cell_type": "markdown",
      "metadata": {
        "id": "QQcUJMO3GAzo"
      },
      "source": [
        "## Data Source:\n",
        "  - https://en.wikipedia.org/wiki/MNIST_database"
      ]
    },
    {
      "cell_type": "markdown",
      "metadata": {
        "id": "mD3F_53EGiWj"
      },
      "source": [
        "## Load the Data"
      ]
    },
    {
      "cell_type": "code",
      "execution_count": null,
      "metadata": {
        "id": "FRckdkG4HCdh"
      },
      "outputs": [],
      "source": [
        "#import libraries\n",
        "import numpy as np\n",
        "import pandas as pd\n",
        "from sklearn.datasets import fetch_openml\n",
        "from sklearn.preprocessing import StandardScaler\n",
        "from sklearn.pipeline import make_pipeline\n",
        "from sklearn.model_selection import train_test_split\n",
        "from sklearn.neighbors import KNeighborsClassifier\n",
        "from sklearn.decomposition import PCA\n",
        "from sklearn.metrics import classification_report\n",
        "from sklearn import set_config\n",
        "set_config(display='diagram')"
      ]
    },
    {
      "cell_type": "code",
      "execution_count": null,
      "metadata": {
        "colab": {
          "base_uri": "https://localhost:8080/"
        },
        "id": "VJfeW1mUHzpJ",
        "outputId": "cdefef99-fdca-46fc-b79b-f24812ffb1fb"
      },
      "outputs": [
        {
          "output_type": "execute_result",
          "data": {
            "text/plain": [
              "(70000, 784)"
            ]
          },
          "metadata": {},
          "execution_count": 2
        }
      ],
      "source": [
        "#load the data\n",
        "mnist = fetch_openml('mnist_784')\n",
        "# view the shape of the dataset\n",
        "mnist.data.shape"
      ]
    },
    {
      "cell_type": "markdown",
      "metadata": {
        "id": "hsHMLu00Ijx5"
      },
      "source": [
        "  - There are 70000 rows (images) and 784 columns (dimensions)."
      ]
    },
    {
      "cell_type": "markdown",
      "metadata": {
        "id": "GbO_IhaRLJZF"
      },
      "source": [
        "### Access the X data and the target"
      ]
    },
    {
      "cell_type": "code",
      "execution_count": null,
      "metadata": {
        "id": "dAbvDeBVKpjG"
      },
      "outputs": [],
      "source": [
        "X = pd.DataFrame(mnist.data)\n",
        "y = np.array(mnist.target)"
      ]
    },
    {
      "cell_type": "markdown",
      "metadata": {
        "id": "bbRfXWMgK-M-"
      },
      "source": [
        "### Inspect the data"
      ]
    },
    {
      "cell_type": "code",
      "execution_count": null,
      "metadata": {
        "colab": {
          "base_uri": "https://localhost:8080/"
        },
        "id": "hmh6tqkCLTVE",
        "outputId": "d0ea5430-56b3-45c1-f97e-6cb53ed42e0a"
      },
      "outputs": [
        {
          "output_type": "execute_result",
          "data": {
            "text/plain": [
              "0"
            ]
          },
          "metadata": {},
          "execution_count": 4
        }
      ],
      "source": [
        "# check for duplicated rows\n",
        "X.duplicated().sum()"
      ]
    },
    {
      "cell_type": "markdown",
      "metadata": {
        "id": "s0csBGANNGiO"
      },
      "source": [
        "  - There are 0 duplicates."
      ]
    },
    {
      "cell_type": "code",
      "execution_count": null,
      "metadata": {
        "colab": {
          "base_uri": "https://localhost:8080/"
        },
        "id": "ts31SikwNJnq",
        "outputId": "d9d8208a-0777-461e-d98d-da007f22f24b"
      },
      "outputs": [
        {
          "output_type": "execute_result",
          "data": {
            "text/plain": [
              "0"
            ]
          },
          "metadata": {},
          "execution_count": 5
        }
      ],
      "source": [
        "# check for missing values\n",
        "X.isna().sum().sum()"
      ]
    },
    {
      "cell_type": "markdown",
      "metadata": {
        "id": "ZpvuwJ8GNOTn"
      },
      "source": [
        "  - There are 0 missing values."
      ]
    },
    {
      "cell_type": "markdown",
      "metadata": {
        "id": "sWD9NGGXGkTS"
      },
      "source": [
        "## Prepare the Data"
      ]
    },
    {
      "cell_type": "markdown",
      "metadata": {
        "id": "Hs_roZrSOfEm"
      },
      "source": [
        "### Split the data into training and testing sets"
      ]
    },
    {
      "cell_type": "code",
      "execution_count": null,
      "metadata": {
        "id": "5NXb7t-uOdH2"
      },
      "outputs": [],
      "source": [
        "X_train, X_test, y_train, y_test = train_test_split(X, y, random_state = 42)"
      ]
    },
    {
      "cell_type": "markdown",
      "metadata": {
        "id": "WBPjkE3OO1Gv"
      },
      "source": [
        "### Scale the data and apply PCA to the data, while retaining 95% of the variance, using a pipeline"
      ]
    },
    {
      "cell_type": "code",
      "execution_count": null,
      "metadata": {
        "id": "Cd0qKSGmPKBj"
      },
      "outputs": [],
      "source": [
        "scaler = StandardScaler()\n",
        "pca = PCA(n_components = .95, random_state = 42)\n",
        "transformer = make_pipeline(scaler, pca)"
      ]
    },
    {
      "cell_type": "markdown",
      "metadata": {
        "id": "tCGHYe0JGnkJ"
      },
      "source": [
        "## KNN Model using the PCA-transformed data to predict which number each image shows"
      ]
    },
    {
      "cell_type": "code",
      "execution_count": null,
      "metadata": {
        "colab": {
          "base_uri": "https://localhost:8080/"
        },
        "id": "4K7fQzT8Q181",
        "outputId": "3f13443d-563d-4266-a70b-1524614cda38"
      },
      "outputs": [
        {
          "output_type": "stream",
          "name": "stdout",
          "text": [
            "CPU times: user 1min 14s, sys: 8.05 s, total: 1min 22s\n",
            "Wall time: 1min 4s\n"
          ]
        }
      ],
      "source": [
        "%%time\n",
        "#put the PCA pipeline in another pipeline with a KNN Classifier\n",
        "#create a modeling pipeline\n",
        "knn_pca_pipe = make_pipeline(transformer, KNeighborsClassifier())\n",
        "knn_pca_pipe.fit(X_train, y_train)\n",
        "#make predictions\n",
        "knn_pca_pipe_predictions = knn_pca_pipe.predict(X_test)"
      ]
    },
    {
      "cell_type": "markdown",
      "metadata": {
        "id": "jPL0oV7BQirg"
      },
      "source": [
        "## KNN Model using the original data, without the PCA transformation"
      ]
    },
    {
      "cell_type": "code",
      "execution_count": null,
      "metadata": {
        "colab": {
          "base_uri": "https://localhost:8080/"
        },
        "id": "4_MzGaqQSOtH",
        "outputId": "9e709e54-3aed-4fc4-9e3a-fce62991e33d"
      },
      "outputs": [
        {
          "output_type": "stream",
          "name": "stdout",
          "text": [
            "CPU times: user 1min 43s, sys: 1.86 s, total: 1min 45s\n",
            "Wall time: 1min 8s\n"
          ]
        }
      ],
      "source": [
        "%%time\n",
        "#create a modeling pipeline\n",
        "knn_orig_pipe = make_pipeline(scaler, KNeighborsClassifier())\n",
        "knn_orig_pipe.fit(X_train, y_train)\n",
        "#make predictions\n",
        "knn_orig_pipe_predictions = knn_orig_pipe.predict(X_test)"
      ]
    },
    {
      "cell_type": "markdown",
      "metadata": {
        "id": "tU95teF5Grol"
      },
      "source": [
        "## Evaluate and compare the models"
      ]
    },
    {
      "cell_type": "code",
      "execution_count": null,
      "metadata": {
        "colab": {
          "base_uri": "https://localhost:8080/"
        },
        "id": "GMZR0gadUecl",
        "outputId": "731bfb5c-c201-49c4-de34-6b2c99ed627e"
      },
      "outputs": [
        {
          "output_type": "stream",
          "name": "stdout",
          "text": [
            "KNN Classification Report for Testing Data Using PCA Transformation\n",
            "              precision    recall  f1-score   support\n",
            "\n",
            "           0       0.96      0.98      0.97      1714\n",
            "           1       0.96      0.99      0.97      1977\n",
            "           2       0.95      0.94      0.94      1761\n",
            "           3       0.94      0.94      0.94      1806\n",
            "           4       0.94      0.94      0.94      1587\n",
            "           5       0.95      0.93      0.94      1607\n",
            "           6       0.96      0.98      0.97      1761\n",
            "           7       0.94      0.93      0.94      1878\n",
            "           8       0.97      0.90      0.93      1657\n",
            "           9       0.91      0.93      0.92      1752\n",
            "\n",
            "    accuracy                           0.95     17500\n",
            "   macro avg       0.95      0.95      0.95     17500\n",
            "weighted avg       0.95      0.95      0.95     17500\n",
            "\n",
            "KNN Classification Report for Testing Data Without PCA Transformation\n",
            "              precision    recall  f1-score   support\n",
            "\n",
            "           0       0.96      0.98      0.97      1714\n",
            "           1       0.95      0.99      0.97      1977\n",
            "           2       0.95      0.93      0.94      1761\n",
            "           3       0.93      0.94      0.94      1806\n",
            "           4       0.94      0.93      0.94      1587\n",
            "           5       0.94      0.93      0.94      1607\n",
            "           6       0.96      0.97      0.97      1761\n",
            "           7       0.94      0.93      0.93      1878\n",
            "           8       0.97      0.89      0.93      1657\n",
            "           9       0.90      0.92      0.91      1752\n",
            "\n",
            "    accuracy                           0.94     17500\n",
            "   macro avg       0.94      0.94      0.94     17500\n",
            "weighted avg       0.94      0.94      0.94     17500\n",
            "\n"
          ]
        }
      ],
      "source": [
        "#print classification reports for the testing data\n",
        "print('KNN Classification Report for Testing Data Using PCA Transformation')\n",
        "print(classification_report(y_test, knn_pca_pipe_predictions))\n",
        "print('KNN Classification Report for Testing Data Without PCA Transformation')\n",
        "print(classification_report(y_test, knn_orig_pipe_predictions))"
      ]
    },
    {
      "cell_type": "markdown",
      "metadata": {
        "id": "hYMcgoqwGvm_"
      },
      "source": [
        "## Which model performed the best on the test set?"
      ]
    },
    {
      "cell_type": "markdown",
      "metadata": {
        "id": "E_P05EkoXbLm"
      },
      "source": [
        "  - The KNN model with PCA-transformed data performed better on the test set.  It was 95% accurate for making correct predictions.  The macro average precision (specificity) was 95%, the macro average recall (sensitivity) was 95%, and the macro average f1-score was 95%."
      ]
    },
    {
      "cell_type": "markdown",
      "metadata": {
        "id": "e6S2UVymG0kc"
      },
      "source": [
        "## Which model was the fastest at making predictions?"
      ]
    },
    {
      "cell_type": "markdown",
      "metadata": {
        "id": "6pw6jK1JYaYZ"
      },
      "source": [
        "  - The KNN model with PCA-transformed data was faster at fitting and making predictions.  The total CPU time was 1 minute, 22 seconds, which was 23 seconds faster than the KNN model with the original data."
      ]
    },
    {
      "cell_type": "code",
      "execution_count": null,
      "metadata": {
        "colab": {
          "base_uri": "https://localhost:8080/"
        },
        "id": "3iuSaY9pFDIV",
        "outputId": "ff270578-a486-455c-a46c-f452f5e20c06"
      },
      "outputs": [
        {
          "output_type": "stream",
          "name": "stdout",
          "text": [
            "CPU times: user 56.4 s, sys: 1.88 s, total: 58.3 s\n",
            "Wall time: 42 s\n"
          ]
        }
      ],
      "source": [
        "%%time\n",
        "knn_pca_pipe_predictions = knn_pca_pipe.predict(X_test)"
      ]
    },
    {
      "cell_type": "code",
      "source": [
        "%%time\n",
        "knn_orig_pipe_predictions = knn_orig_pipe.predict(X_test)"
      ],
      "metadata": {
        "colab": {
          "base_uri": "https://localhost:8080/"
        },
        "id": "WnV1U3loIb4W",
        "outputId": "3c8152db-50b9-4456-a16b-92af5f3d09b4"
      },
      "execution_count": null,
      "outputs": [
        {
          "output_type": "stream",
          "name": "stdout",
          "text": [
            "CPU times: user 1min 43s, sys: 2.57 s, total: 1min 46s\n",
            "Wall time: 1min 10s\n"
          ]
        }
      ]
    },
    {
      "cell_type": "markdown",
      "source": [
        "  - The KNN model with PCA-transformed data made its predictions in 58.3 seconds, which was 47.7 seconds faster than the KNN model with the original data."
      ],
      "metadata": {
        "id": "MzSJOxq-IiXW"
      }
    },
    {
      "cell_type": "code",
      "source": [],
      "metadata": {
        "id": "a2ZYmFoHJMUV"
      },
      "execution_count": null,
      "outputs": []
    }
  ],
  "metadata": {
    "colab": {
      "provenance": [],
      "authorship_tag": "ABX9TyMqvlJ4HP6EHp98a2xC4iEm",
      "include_colab_link": true
    },
    "kernelspec": {
      "display_name": "Python 3",
      "name": "python3"
    },
    "language_info": {
      "name": "python"
    }
  },
  "nbformat": 4,
  "nbformat_minor": 0
}